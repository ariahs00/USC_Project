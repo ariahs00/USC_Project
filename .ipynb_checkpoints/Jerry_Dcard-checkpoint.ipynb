{
 "cells": [
  {
   "cell_type": "code",
   "execution_count": null,
   "metadata": {},
   "outputs": [],
   "source": [
    "import requests\n",
    "import json\n",
    "import pandas as pd    # 引用套件並縮寫為 pd\n",
    "\n",
    "from bs4 import BeautifulSoup\n",
    "# https://www.dcard.tw/f/makeup"
   ]
  },
  {
   "cell_type": "markdown",
   "metadata": {},
   "source": [
    "GET 美妝版首頁，Use BeautifulSoup with html, wrtie a txt\n",
    "\n",
    " "
   ]
  },
  {
   "cell_type": "code",
   "execution_count": null,
   "metadata": {
    "scrolled": false
   },
   "outputs": [],
   "source": [
    "test = open(\"data/test.txt\",\"w\",encoding='UTF-8')\n",
    "\n",
    "p = requests.Session()                            # 把這一次的request都算在同一個session裡\n",
    "url=requests.get(\"https://www.dcard.tw/f/makeup\") # 請求的網址\n",
    "soup = BeautifulSoup(url.text,\"html.parser\")\n",
    "sel = soup.select(\"h2.tgn9uw-2 a\")\n",
    "a=[]\n",
    "for link in sel:\n",
    "    a.append(link[\"href\"])\n",
    "    print('https://www.dcard.tw'+link.get('href'))"
   ]
  },
  {
   "cell_type": "code",
   "execution_count": null,
   "metadata": {},
   "outputs": [],
   "source": [
    "#a\n",
    "url = \"https://www.dcard.tw\"+ a[1]\n",
    "url"
   ]
  },
  {
   "cell_type": "markdown",
   "metadata": {},
   "source": [
    "根據把首頁往下滑，發現網站會對server送一個GET請求下一個30篇文章\n",
    "- 2018(G) https://ithelp.ithome.com.tw/articles/10203216\n",
    "- 2019(G) https://tlyu0419.github.io/2019/04/06/Crawl-Dcard/\n",
    "- 2020 https://blog.jiatool.com/posts/dcard_api_v2/"
   ]
  },
  {
   "cell_type": "markdown",
   "metadata": {},
   "source": [
    "### API root\n",
    "\n",
    "- 看板資訊 http://dcard.tw/_api/forums\n",
    "- 文章資訊 http://dcard.tw/_api/forums/{看板名稱}/posts\n",
    "- 文章內文\thttp://dcard.tw/_api/posts/{文章編號}\n",
    "- 文章內引用連結\thttp://dcard.tw/_api/posts/{文章編號}/links\n",
    "- 文章內留言\thttp://dcard.tw/_api/posts/{文章編號}/comments\n",
    "\n",
    "### API wirte\n",
    "- 文章數量 https://www.dcard.tw/_api/posts?limit=100\n",
    "- 文章分頁 http://dcard.tw/_api/posts/?before=文章id (before 回傳由新到舊 after舊到新)\n",
    "- 文章留言 http://dcard.tw/_api/posts/文章id/comments\n",
    "- 留言分頁 http://dcard.tw/_api/posts/文章id/comments?after=floor數字\n",
    "- 熱門文章 https://dcard.tw/_api/posts?popular=true\n",
    "\n",
    "### others\n",
    "文章資訊(meta) 與 文章內留言 預設使用熱門度 (popularity) 作為排序，而且一次請求 (request) 中只回應 30 筆。\n",
    "* 想要讓這兩項使用 時間 排序，可在 GET 參數中加入 popular=false\n",
    "* 欲取得更多的 文章資訊(meta)，可以使用 before={某文章編號}來獲得早於 #{某文章編號} 的另外 30 筆 資訊。\n",
    "* 欲取得更多的 文章內留言，可以使用 after={某樓層} 來獲得大於 #{某樓層} 的另外 30 筆 留言。"
   ]
  },
  {
   "cell_type": "code",
   "execution_count": null,
   "metadata": {},
   "outputs": [],
   "source": [
    "#測試 Code\n",
    "# url = 'https://www.dcard.tw/_api/posts/235020702' \n",
    "# url = 'http://dcard.tw/_api/forums/makeup/posts?popular=true' \n",
    "# requ = requests.get(url)\n",
    "# rejs = requ.json()\n",
    "# rejs"
   ]
  },
  {
   "cell_type": "code",
   "execution_count": null,
   "metadata": {},
   "outputs": [],
   "source": [
    "# slope the title\n",
    "def Catch(ID):\n",
    "    url = 'https://www.dcard.tw/_api/posts/'+str(ID)\n",
    "    rejs = requests.get(url).json()\n",
    "    #rejs\n",
    "    return(pd.DataFrame(\n",
    "        data=\n",
    "        [{'ID':rejs['id'],\n",
    "          'title':rejs['title'],\n",
    "          'content':rejs['content'],\n",
    "          'excerpt':rejs['excerpt'],\n",
    "          'createdAt':rejs['createdAt'],\n",
    "          'updatedAt': rejs['updatedAt' ],\n",
    "          'forumName':rejs['forumName'],\n",
    "          'forumAlias':rejs['forumAlias'],\n",
    "          'gender':rejs['gender'],\n",
    "          'topics':rejs['topics']}],\n",
    "        columns=['ID', 'title', 'content', 'excerpt', 'createdAt', \n",
    "                 'updatedAt', 'forumName', 'forumAlias','gender', 'topics '])\n",
    "          )"
   ]
  },
  {
   "cell_type": "code",
   "execution_count": null,
   "metadata": {},
   "outputs": [],
   "source": [
    "# 大工程\n",
    "url = \"http://dcard.tw/_api/forums/makeup/posts?popular=true&limit=100\"\n",
    "rejs = requests.get(url).json()\n",
    "df = pd.DataFrame()\n",
    "df = df.append(Catch(rejs[0]['id']),ignore_index=True)   #0 - 29\n",
    "\n",
    "\n",
    "for j in range(100):\n",
    "    last = str(int(df['ID'].tail(1))) # 找出爬出資料的最後一筆ID\n",
    "    url = \"https://www.dcard.tw/_api/posts?popular=true&limit=100&before=\" + last\n",
    "    rejs = requests.get(url).json()\n",
    "    #result = json.get(url.content.decode(encoding='utf8'))\n",
    "    #rejs = resq.json()\n",
    "    #requests.get(url).json()\n",
    "    for i in range(len(rejs)):\n",
    "        df = df.append(Catch(rejs[i]['id']), ignore_index=True)\n",
    "        if i % 100 == 0:\n",
    "            print('第',j,'次執行，data reading...',i,'last',last)\n",
    "            \n",
    "df.to_csv('data/Op_Dcard_markeup_100r.csv', index=False)\n",
    "print(df.shape)\n",
    "df"
   ]
  },
  {
   "cell_type": "code",
   "execution_count": null,
   "metadata": {},
   "outputs": [],
   "source": [
    "import sys, json\n",
    "struct = {}\n",
    "try:\n",
    "    try: #try parsing to dict\n",
    "        dataform = str(response_json).strip(\"'<>() \").replace('\\'', '\\\"')\n",
    "        struct = json.loads(dataform)\n",
    "    except:\n",
    "        print repr(resonse_json)\n",
    "        print sys.exc_info()"
   ]
  },
  {
   "cell_type": "markdown",
   "metadata": {},
   "source": [
    "# ---------------正式版本分隔線---------------\n",
    "- 測試版本代號：EGG_1.2 \n",
    "- 開發人員： EGG Jerry Three\n"
   ]
  },
  {
   "cell_type": "code",
   "execution_count": null,
   "metadata": {
    "scrolled": true
   },
   "outputs": [],
   "source": [
    "# 熱門美妝版測試 (100筆)\n",
    "url = 'http://dcard.tw/_api/forums/makeup/posts?popular=true&limit=100'\n",
    "resq = requests.get(url)\n",
    "rejs = resq.json()\n",
    "df = pd.DataFrame()\n",
    "for i in range(len(rejs)):\n",
    "    df = df.append(Catch(rejs[i]['id']),ignore_index=True)   #0 - 29\n",
    "    if i % 20 == 0:\n",
    "        print('data reading...',i)\n",
    "print(df.shape)\n",
    "df.to_csv('data/Op_Dcard_markeup.csv', index=False)\n",
    "df\n",
    "# 99\t235031315\t#請益 #問 LA girl 遮瑕挑色\n",
    "# 235066991"
   ]
  },
  {
   "cell_type": "code",
   "execution_count": null,
   "metadata": {
    "scrolled": true
   },
   "outputs": [],
   "source": [
    "#last = str(int(df['ID'].tail(1))) #last dt\n",
    "#last"
   ]
  },
  {
   "cell_type": "code",
   "execution_count": null,
   "metadata": {},
   "outputs": [],
   "source": [
    "# 透過迴圈讀取10*100篇文章，若需讀取更多資料，可以將range(10)中的數值提升\n",
    "for j in range(10):\n",
    "    last = str(int(df['ID'].tail(1))) # 找出爬出資料的最後一筆ID\n",
    "    url = 'https://www.dcard.tw/_api/posts?popular=true&before=' + last\n",
    "    #url = 'https://www.dcard.tw/_api/posts?popular=true&limit=100&before=' + last\n",
    "    resq = requests.get(url)\n",
    "    rejs = resq.json()\n",
    "    for i in range(len(rejs)):\n",
    "        df = df.append(Catch(rejs[i]['id']), ignore_index=True)\n",
    "        if i % 10 == 0:\n",
    "            print('第',j,'次執行，data reading...',i)\n",
    "            \n",
    "print(df.shape)\n",
    "df"
   ]
  },
  {
   "cell_type": "code",
   "execution_count": null,
   "metadata": {},
   "outputs": [],
   "source": [
    "last = str(int(df['ID'].tail(1)))\n",
    "url = 'http://dcard.tw/_api/forums/makeup/posts?popular=true&limit=100&before=' + last\n",
    "resq = requests.get(url)\n",
    "rejs = resq.json()\n",
    "df = pd.DataFrame()\n",
    "df"
   ]
  },
  {
   "cell_type": "code",
   "execution_count": null,
   "metadata": {},
   "outputs": [],
   "source": [
    "# 熱門美妝版測試 (100筆)\n",
    "\n",
    "for i in range(10):\n",
    "    last = str(int(df['ID'].tail(1)))\n",
    "    url = 'http://dcard.tw/_api/forums/makeup/posts?popular=true&limit=100&before=' + last\n",
    "    resq = requests.get(url)\n",
    "    rejs = resq.json()\n",
    "    df = pd.DataFrame()\n",
    "    for i in range(len(rejs)):\n",
    "        df = df.append(Catch(rejs[i]['id']),ignore_index=True)\n",
    "        if i % 20 == 0:\n",
    "            print('data reading...',i)\n",
    "    print(df.shape)\n",
    "\n",
    "df.to_csv('data/Op_Dcard_markeup.csv', index=False)\n",
    "df\n",
    "\n",
    "# 99\t235031315\t#請益 #問 LA girl 遮瑕挑色"
   ]
  },
  {
   "cell_type": "code",
   "execution_count": null,
   "metadata": {},
   "outputs": [],
   "source": [
    "last = str(int(df.tail(1).ID)) # 找出爬出資料的最後一筆ID '235031315'\n",
    "url = 'http://dcard.tw/_api/forums/makeup/posts?popular=true&limit=100&before=' + last\n",
    "resq = requests.get(url)\n",
    "rejs = resq.json()\n",
    "for i in range(len(rejs)):\n",
    "    df = df.append(Catch(rejs[i]['id']), ignore_index=True)\n",
    "print(df.shape)\n",
    "\n",
    "\n",
    "df"
   ]
  },
  {
   "cell_type": "code",
   "execution_count": null,
   "metadata": {},
   "outputs": [],
   "source": [
    "\n",
    "#df"
   ]
  },
  {
   "cell_type": "code",
   "execution_count": null,
   "metadata": {},
   "outputs": [],
   "source": [
    "##ok ^\n",
    "for j in range(3):\n",
    "    last = str(int(df.tail(1).ID)) # 找出爬出資料的最後一筆ID\n",
    "    url = 'http://dcard.tw/_api/forums/makeup/posts?popular=true&limit=100&before=' + last\n",
    "    resq = requests.get(url)\n",
    "    rejs = resq.json()\n",
    "    for i in range(len(rejs)):\n",
    "        df = df.append(Catch(rejs[i]['id']), ignore_index=True)\n",
    "print(df.shape)\n",
    "#df"
   ]
  },
  {
   "cell_type": "code",
   "execution_count": null,
   "metadata": {},
   "outputs": [],
   "source": [
    "# 透過迴圈讀取10*100篇文章，若需讀取更多資料，可以將range(10)中的數值提升\n",
    "for j in range(10):\n",
    "    last = str(int(df.tail(1).ID)) # 找出爬出資料的最後一筆ID\n",
    "    url = 'http://dcard.tw/_api/forums/makeup/posts?popular=true&limit=100&before=' + last\n",
    "    resq = requests.get(url)\n",
    "    rejs = resq.json()\n",
    "    for i in range(len(rejs)):\n",
    "        df = df.append(Catch(rejs[i]['id']), ignore_index=True)\n",
    "        if i % 20 == 0:\n",
    "            print('data reading...',i)\n",
    "print(df.shape)\n",
    "df\n"
   ]
  },
  {
   "cell_type": "code",
   "execution_count": null,
   "metadata": {},
   "outputs": [],
   "source": [
    "df.to_excel('data/Dcard_markeup.excel', index=False)"
   ]
  },
  {
   "cell_type": "markdown",
   "metadata": {},
   "source": [
    "欄位\t說明\t備註\n",
    "ID\t編號\t\n",
    "title\t標題\t\n",
    "content\t內容\t\n",
    "excerpt\t摘要\t\n",
    "createdAt\t發布時間\t\n",
    "updatedAt\t更新時間\t\n",
    "commentCount\t留言數\t\n",
    "forumName\t分類\t中文\n",
    "forumAlias\t分類\t英文\n",
    "gender\t性別\t\n",
    "likeCount\t心情數量\t\n",
    "reactions\t心情細項\t把以上心情細分為「愛心」、「哈哈」、「跪」、「森77」、「驚訝」等類型\n",
    "topics\t標籤\t"
   ]
  },
  {
   "cell_type": "code",
   "execution_count": null,
   "metadata": {},
   "outputs": [],
   "source": []
  },
  {
   "cell_type": "code",
   "execution_count": null,
   "metadata": {},
   "outputs": [],
   "source": [
    "# 固定碼測試\n",
    "def Catch_test(ID):\n",
    "    url = 'https://www.dcard.tw/_api/posts/'+str(ID)\n",
    "    requ = requests.get(url)\n",
    "    rejs = requ.json()\n",
    "    #rejs\n",
    "    return(pd.DataFrame(\n",
    "        data=\n",
    "        [{'ID':rejs['id'],\n",
    "          'title':rejs['title'],\n",
    "          'content':rejs['content'],\n",
    "          'excerpt':rejs['excerpt'],\n",
    "          'createdAt':rejs['createdAt'],\n",
    "          'updatedAt': rejs['updatedAt' ],\n",
    "          'forumName':rejs['forumName'],\n",
    "          'forumAlias':rejs['forumAlias'],\n",
    "          'gender':rejs['gender'],\n",
    "          'topics':rejs['topics']}],\n",
    "        columns=['ID', 'title', 'content', 'excerpt', 'createdAt', \n",
    "                 'updatedAt', 'forumName', 'forumAlias','gender', 'topics '])\n",
    "          )\n",
    "Catch_test(235020702)"
   ]
  }
 ],
 "metadata": {
  "kernelspec": {
   "display_name": "Python 3",
   "language": "python",
   "name": "python3"
  },
  "language_info": {
   "codemirror_mode": {
    "name": "ipython",
    "version": 3
   },
   "file_extension": ".py",
   "mimetype": "text/x-python",
   "name": "python",
   "nbconvert_exporter": "python",
   "pygments_lexer": "ipython3",
   "version": "3.8.5"
  }
 },
 "nbformat": 4,
 "nbformat_minor": 4
}
